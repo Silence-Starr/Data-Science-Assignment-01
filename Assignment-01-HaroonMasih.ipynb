{
 "cells": [
  {
   "cell_type": "code",
   "execution_count": 6,
   "id": "31884d50",
   "metadata": {},
   "outputs": [
    {
     "name": "stdout",
     "output_type": "stream",
     "text": [
      "QUESTION N0 01 - HAROON MASIH\n",
      "\n",
      "Twinkle, twinkle, little star,\n",
      "         How I wonder what you are|\n",
      "                 Up above the world so high,\n",
      "                 Like a diamond in the sky.\n",
      "Twinkle, twinkle, little star,\n",
      "         How I wonder what you are\n"
     ]
    }
   ],
   "source": [
    "print(\"\"\"QUESTION N0 01 - HAROON MASIH\n",
    "\n",
    "Twinkle, twinkle, little star,\n",
    "         How I wonder what you are|\n",
    "                 Up above the world so high,\n",
    "                 Like a diamond in the sky.\n",
    "Twinkle, twinkle, little star,\n",
    "         How I wonder what you are\"\"\")"
   ]
  },
  {
   "cell_type": "code",
   "execution_count": 5,
   "id": "27c7bed3",
   "metadata": {},
   "outputs": [
    {
     "name": "stdout",
     "output_type": "stream",
     "text": [
      "QUESTION N0 02 - HAROON MASIH\n",
      "3.9.7\n"
     ]
    }
   ],
   "source": [
    "print(\"QUESTION N0 02 - HAROON MASIH\")\n",
    "from platform import python_version\n",
    "print(python_version())"
   ]
  },
  {
   "cell_type": "code",
   "execution_count": 8,
   "id": "4d3a193d",
   "metadata": {},
   "outputs": [
    {
     "name": "stdout",
     "output_type": "stream",
     "text": [
      "QUESTION N0 03 - HAROON MASIH\n",
      "Current date and time\n",
      "DATE 2021-12-31 TIME 11:42:02\n"
     ]
    }
   ],
   "source": [
    "print(\"QUESTION N0 03 - HAROON MASIH\")\n",
    "import datetime\n",
    "now = datetime.datetime.now()\n",
    "print(\"Current date and time\")\n",
    "print(now.strftime(\"DATE %Y-%m-%d TIME %H:%M:%S\"))\n"
   ]
  },
  {
   "cell_type": "code",
   "execution_count": 10,
   "id": "d78a6f38",
   "metadata": {},
   "outputs": [
    {
     "name": "stdout",
     "output_type": "stream",
     "text": [
      "QUESTION N0 04 - HAROON MASIH\n",
      "Please Enter Radius of the Circle :6.9\n",
      "Area of the Circle with Radius 6.9 is :149.57122623741006\n"
     ]
    }
   ],
   "source": [
    "print(\"QUESTION N0 04 - HAROON MASIH\")\n",
    "from math import pi\n",
    "r = float(input(\"Please Enter Radius of the Circle :\"))\n",
    "print(\"Area of the Circle with Radius \" + str(r) + \" is :\" + str(pi * r**2))"
   ]
  },
  {
   "cell_type": "code",
   "execution_count": 13,
   "id": "34cd3321",
   "metadata": {},
   "outputs": [
    {
     "name": "stdout",
     "output_type": "stream",
     "text": [
      "QUESTION N0 05 - HAROON MASIH\n",
      "Please Enter Your First Name :Musa\n",
      "Please Enter Your Last Name :Masih\n",
      "I Am Masih Musa\n"
     ]
    }
   ],
   "source": [
    "print(\"QUESTION N0 05 - HAROON MASIH\")\n",
    "FirstName = input(\"Please Enter Your First Name :\")\n",
    "LastName = input(\"Please Enter Your Last Name :\")\n",
    "print(\"I Am \" + LastName + \" \" + FirstName)"
   ]
  },
  {
   "cell_type": "code",
   "execution_count": 15,
   "id": "32c1ae26",
   "metadata": {},
   "outputs": [
    {
     "name": "stdout",
     "output_type": "stream",
     "text": [
      "QUESTION N0 06 - HAROON MASIH\n",
      "Please Enter Your First Number :56\n",
      "Please Enter Your Second Number :999\n",
      "Sum : 1055\n"
     ]
    }
   ],
   "source": [
    "print(\"QUESTION N0 06 - HAROON MASIH\")\n",
    "X = int(input(\"Please Enter Your First Number :\"))\n",
    "Y = int(input(\"Please Enter Your Second Number :\"))\n",
    "sum = X + Y\n",
    "print(\"Sum :\", sum)"
   ]
  },
  {
   "cell_type": "code",
   "execution_count": 16,
   "id": "dc18906c",
   "metadata": {},
   "outputs": [
    {
     "name": "stdout",
     "output_type": "stream",
     "text": [
      "Assignment is Completed\n"
     ]
    }
   ],
   "source": [
    "print(\"Assignment is Completed\")"
   ]
  },
  {
   "cell_type": "code",
   "execution_count": null,
   "id": "a2c834ef",
   "metadata": {},
   "outputs": [],
   "source": []
  }
 ],
 "metadata": {
  "kernelspec": {
   "display_name": "Python 3 (ipykernel)",
   "language": "python",
   "name": "python3"
  },
  "language_info": {
   "codemirror_mode": {
    "name": "ipython",
    "version": 3
   },
   "file_extension": ".py",
   "mimetype": "text/x-python",
   "name": "python",
   "nbconvert_exporter": "python",
   "pygments_lexer": "ipython3",
   "version": "3.9.7"
  }
 },
 "nbformat": 4,
 "nbformat_minor": 5
}
